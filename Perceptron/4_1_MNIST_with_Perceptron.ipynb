{
  "nbformat": 4,
  "nbformat_minor": 0,
  "metadata": {
    "colab": {
      "name": "4.1 MNIST with Perceptron",
      "provenance": [],
      "collapsed_sections": [
        "s6AvUaR0sb9q",
        "7fimFqps9jZt",
        "-AehPwf9VwsO",
        "sZ4VqYEAswQn",
        "t-mGjQHP-rHG",
        "w7WnN9s0-M2k",
        "OB0HTtOUs7Tf"
      ],
      "authorship_tag": "ABX9TyPLOzz8auDmVu8jgrzpzydE",
      "include_colab_link": true
    },
    "kernelspec": {
      "name": "python3",
      "display_name": "Python 3"
    }
  },
  "cells": [
    {
      "cell_type": "markdown",
      "metadata": {
        "id": "view-in-github",
        "colab_type": "text"
      },
      "source": [
        "<a href=\"https://colab.research.google.com/github/mdzafri/openvino-workshop/blob/main/Perceptron/4_1_MNIST_with_Perceptron.ipynb\" target=\"_parent\"><img src=\"https://colab.research.google.com/assets/colab-badge.svg\" alt=\"Open In Colab\"/></a>"
      ]
    },
    {
      "cell_type": "markdown",
      "metadata": {
        "id": "s6AvUaR0sb9q"
      },
      "source": [
        "# 1. Prepare Dataset"
      ]
    },
    {
      "cell_type": "code",
      "metadata": {
        "id": "722-7ZSoQG-D"
      },
      "source": [
        "import numpy as np\n",
        "from tensorflow import keras\n",
        "from tensorflow.keras import layers"
      ],
      "execution_count": null,
      "outputs": []
    },
    {
      "cell_type": "code",
      "metadata": {
        "id": "O3MvvP8YQQ1_"
      },
      "source": [
        "# Load the dataset\n",
        "num_classes = 10\n",
        "input_shape = (28, 28, 1)\n",
        "\n",
        "# the data, split between train and test sets\n",
        "(x_train, y_train), (x_test, y_test) = keras.datasets.mnist.load_data()"
      ],
      "execution_count": null,
      "outputs": []
    },
    {
      "cell_type": "code",
      "metadata": {
        "id": "84IDGj2vWtIy"
      },
      "source": [
        "# OPTIONAL: Display some dataset samples as an image \n",
        "%matplotlib inline\n",
        "import matplotlib.pyplot as plt\n",
        "import random\n",
        "\n",
        "ROWS = 6\n",
        "random_indices = random.sample(range(x_train.shape[0]), ROWS*ROWS)\n",
        "sample_images = x_train[random_indices, :]\n",
        "plt.clf()\n",
        "\n",
        "fig, axes = plt.subplots(ROWS,ROWS, \n",
        "                         figsize=(ROWS,ROWS),\n",
        "                         sharex=True, sharey=True) \n",
        "\n",
        "for i in range(ROWS*ROWS):\n",
        "    subplot_row = i//ROWS \n",
        "    subplot_col = i%ROWS\n",
        "    ax = axes[subplot_row, subplot_col]\n",
        "\n",
        "    plottable_image = np.reshape(sample_images[i,:], (28,28))\n",
        "    ax.imshow(plottable_image, cmap='gray_r')\n",
        "    \n",
        "    ax.set_xbound([0,28])\n",
        "\n",
        "plt.tight_layout()\n",
        "plt.show()"
      ],
      "execution_count": null,
      "outputs": []
    },
    {
      "cell_type": "code",
      "metadata": {
        "id": "FHJf0YLr_D20"
      },
      "source": [
        "# Normalize images to the [0, 1] range\n",
        "# This is to make the calculations more efficient\n",
        "x_train = x_train.astype(\"float32\") / 255\n",
        "x_test = x_test.astype(\"float32\") / 255\n",
        "\n",
        "# Make sure images have shape (28, 28, 1)\n",
        "x_train = np.expand_dims(x_train, -1)\n",
        "x_test = np.expand_dims(x_test, -1)\n",
        "print(\"x_train shape:\", x_train.shape)\n",
        "print(x_train.shape[0], \"train samples\")\n",
        "print(x_test.shape[0], \"test samples\")\n",
        "\n",
        "# convert class label vectors to binary class matrices (convert to 1-hot format)\n",
        "y_train = keras.utils.to_categorical(y_train, num_classes)\n",
        "y_test = keras.utils.to_categorical(y_test, num_classes)"
      ],
      "execution_count": null,
      "outputs": []
    },
    {
      "cell_type": "markdown",
      "metadata": {
        "id": "lR8FEtFUsnKw"
      },
      "source": [
        "## (Optional) Use TensorBoard to display some nice graphs"
      ]
    },
    {
      "cell_type": "code",
      "metadata": {
        "id": "wYm5B0QiQfqQ"
      },
      "source": [
        "# Load the TensorBoard notebook extension\n",
        "%load_ext tensorboard\n",
        "\n",
        "import datetime\n",
        "# create keras TensorBoard callback\n",
        "log_dir = \"logs/fit/\" + datetime.datetime.now().strftime(\"%Y%m%d-%H%M%S\")\n",
        "# specify the log directory\n",
        "tensorboard_callback = keras.callbacks.TensorBoard(log_dir=log_dir, histogram_freq=1)\n"
      ],
      "execution_count": null,
      "outputs": []
    },
    {
      "cell_type": "markdown",
      "metadata": {
        "id": "7fimFqps9jZt"
      },
      "source": [
        "# 2. Select/Design Model"
      ]
    },
    {
      "cell_type": "code",
      "metadata": {
        "id": "HVjL67_E9ts_"
      },
      "source": [
        "# set up the model structure\n",
        "model = keras.Sequential(\n",
        "    [\n",
        "        keras.Input(shape=input_shape),\n",
        "        layers.Flatten(),\n",
        "        # layers.Dense(128, activation='relu'),  # hidden layer\n",
        "        layers.Dense(num_classes, activation=\"softmax\"),\n",
        "    ]\n",
        ")\n",
        "\n",
        "model.summary()"
      ],
      "execution_count": null,
      "outputs": []
    },
    {
      "cell_type": "markdown",
      "metadata": {
        "id": "i2ZsfydmXhJG"
      },
      "source": [
        "# 3. Train the model"
      ]
    },
    {
      "cell_type": "code",
      "metadata": {
        "id": "TRBMNW1EXP0y"
      },
      "source": [
        "# set the loss, optimizer and metrics\n",
        "model.compile(loss=\"categorical_crossentropy\", optimizer=\"adam\", metrics=[\"accuracy\"])\n",
        "\n",
        "# train/fit the model\n",
        "model.fit(x_train, y_train, batch_size=128, epochs=5, validation_split=0.1)"
      ],
      "execution_count": null,
      "outputs": []
    },
    {
      "cell_type": "code",
      "metadata": {
        "id": "LdAJt2PN-rSX"
      },
      "source": [
        "# Evaluate the trained model performance\n",
        "score = model.evaluate(x_test, y_test)\n",
        "print(\"Test loss:\", score[0])\n",
        "print(\"Test accuracy:\", score[1])"
      ],
      "execution_count": null,
      "outputs": []
    },
    {
      "cell_type": "markdown",
      "metadata": {
        "id": "w7WnN9s0-M2k"
      },
      "source": [
        "## (Optional) Perform training for viewing data in Tensorboard"
      ]
    },
    {
      "cell_type": "code",
      "metadata": {
        "id": "V_q_J6N3-LBJ"
      },
      "source": [
        "# train the model and save training performance parameters into training_history\n",
        "training_history = model.fit(\n",
        "    x_train, # input data \n",
        "    y_train, # output classes\n",
        "    batch_size=128, \n",
        "    epochs=10, \n",
        "    validation_split=0.1, \n",
        "    verbose=0, # Suppress chatty output; use Tensorboard instead \n",
        "    validation_data=(x_test, y_test),\n",
        "    callbacks=[tensorboard_callback],\n",
        ")"
      ],
      "execution_count": null,
      "outputs": []
    },
    {
      "cell_type": "code",
      "metadata": {
        "id": "avMrNgmBjNCe"
      },
      "source": [
        "tensorboard --logdir logs/fit"
      ],
      "execution_count": null,
      "outputs": []
    },
    {
      "cell_type": "markdown",
      "metadata": {
        "id": "OB0HTtOUs7Tf"
      },
      "source": [
        "# 4. Test the trained model"
      ]
    },
    {
      "cell_type": "code",
      "metadata": {
        "id": "PnamGhk7Q2OO"
      },
      "source": [
        "# Make a canvas for user to draw a digit\n",
        "# then save the drawing as a png file\n",
        "# source: https://gist.github.com/korakot/8409b3feec20f159d8a50b0a811d3bca\n",
        "from IPython.display import HTML, Image\n",
        "from google.colab.output import eval_js\n",
        "from base64 import b64decode\n",
        "\n",
        "canvas_html = \"\"\"\n",
        "<canvas width=%d height=%d></canvas>\n",
        "<button>Finish</button>\n",
        "<script>\n",
        "var canvas = document.querySelector('canvas')\n",
        "var ctx = canvas.getContext('2d')\n",
        "ctx.fillStyle = \"white\";\n",
        "ctx.fillRect(0, 0, canvas.width, canvas.height);\n",
        "ctx.lineWidth = %d\n",
        "var button = document.querySelector('button')\n",
        "var mouse = {x: 0, y: 0}\n",
        "\n",
        "canvas.addEventListener('mousemove', function(e) {\n",
        "  mouse.x = e.pageX - this.offsetLeft\n",
        "  mouse.y = e.pageY - this.offsetTop\n",
        "})\n",
        "canvas.onmousedown = ()=>{\n",
        "  ctx.beginPath()\n",
        "  ctx.moveTo(mouse.x, mouse.y)\n",
        "  canvas.addEventListener('mousemove', onPaint)\n",
        "}\n",
        "canvas.onmouseup = ()=>{\n",
        "  canvas.removeEventListener('mousemove', onPaint)\n",
        "}\n",
        "var onPaint = ()=>{\n",
        "  ctx.lineTo(mouse.x, mouse.y)\n",
        "  ctx.stroke()\n",
        "}\n",
        "\n",
        "var data = new Promise(resolve=>{\n",
        "  button.onclick = ()=>{\n",
        "    resolve(canvas.toDataURL('image/png'))\n",
        "  }\n",
        "})\n",
        "</script>\n",
        "\"\"\"\n",
        "\n",
        "def draw(filename='drawing.png', w=150, h=150, line_width=10):\n",
        "  display(HTML(canvas_html % (w, h, line_width)))\n",
        "  data = eval_js(\"data\")\n",
        "  binary = b64decode(data.split(',')[1])\n",
        "  with open(filename, 'wb') as f:\n",
        "    f.write(binary)\n",
        "    print(\"image saved as: \")\n",
        "    print(filename)\n",
        "  # return len(binary)\n",
        "\n",
        "draw()"
      ],
      "execution_count": null,
      "outputs": []
    },
    {
      "cell_type": "code",
      "metadata": {
        "id": "0xh5oSUYhl0V"
      },
      "source": [
        "import matplotlib.pyplot as plt\n",
        "from PIL import Image, ImageOps # import pillow image manipulation tool\n",
        "\n",
        "# Load the image to be tested\n",
        "user_image = Image.open('drawing.png')\n",
        "user_image = ImageOps.grayscale(user_image)\n",
        "user_image = ImageOps.invert(user_image)\n",
        "\n",
        "# Resize to input_shape\n",
        "user_image = user_image.resize((input_shape[0],input_shape[1]))\n",
        "plt.imshow(user_image)\n",
        "user_image = np.array(user_image).astype(\"float32\") / 255\n",
        "# user_image = np.expand_dims(user_image, axis=0)\n",
        "user_image = user_image.reshape(-1, 28, 28, 1)\n",
        "# print(\"user_image shape:\", user_image.shape)\n",
        "\n",
        "# Predict the class of the drawing \n",
        "result = model.predict(user_image)\n",
        "print(result)\n",
        "result = np.argmax(result,axis=1)\n",
        "print(\"The AI thinks this is the number:\", result[0])\n"
      ],
      "execution_count": null,
      "outputs": []
    }
  ]
}